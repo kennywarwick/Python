{
 "cells": [
  {
   "cell_type": "code",
   "execution_count": 2,
   "metadata": {
    "collapsed": false
   },
   "outputs": [
    {
     "ename": "IOError",
     "evalue": "[Errno 2] No such file or directory: 'travel_latest20161207.json'",
     "output_type": "error",
     "traceback": [
      "\u001b[0;31m\u001b[0m",
      "\u001b[0;31mIOError\u001b[0mTraceback (most recent call last)",
      "\u001b[0;32m<ipython-input-2-18780970d84d>\u001b[0m in \u001b[0;36m<module>\u001b[0;34m()\u001b[0m\n\u001b[1;32m      7\u001b[0m \u001b[1;32mimport\u001b[0m \u001b[0mrequests\u001b[0m \u001b[1;32mas\u001b[0m \u001b[0mr\u001b[0m\u001b[1;33m\u001b[0m\u001b[0m\n\u001b[1;32m      8\u001b[0m \u001b[1;32mfrom\u001b[0m \u001b[0mbs4\u001b[0m \u001b[1;32mimport\u001b[0m \u001b[0mBeautifulSoup\u001b[0m\u001b[1;33m\u001b[0m\u001b[0m\n\u001b[0;32m----> 9\u001b[0;31m \u001b[1;32mwith\u001b[0m \u001b[0mopen\u001b[0m\u001b[1;33m(\u001b[0m\u001b[1;34m'travel_latest20161207.json'\u001b[0m\u001b[1;33m,\u001b[0m \u001b[1;34m'rb'\u001b[0m\u001b[1;33m)\u001b[0m \u001b[1;32mas\u001b[0m \u001b[0mf\u001b[0m\u001b[1;33m:\u001b[0m\u001b[1;33m\u001b[0m\u001b[0m\n\u001b[0m\u001b[1;32m     10\u001b[0m     \u001b[0mdata_list\u001b[0m \u001b[1;33m=\u001b[0m \u001b[0mjson\u001b[0m\u001b[1;33m.\u001b[0m\u001b[0mload\u001b[0m\u001b[1;33m(\u001b[0m\u001b[0mf\u001b[0m\u001b[1;33m)\u001b[0m\u001b[1;33m\u001b[0m\u001b[0m\n\u001b[1;32m     11\u001b[0m \u001b[1;33m\u001b[0m\u001b[0m\n",
      "\u001b[0;31mIOError\u001b[0m: [Errno 2] No such file or directory: 'travel_latest20161207.json'"
     ]
    }
   ],
   "source": [
    "# EXAMPLES ON Stackoverflow about extract bad tag\n",
    "# soup = BeautifulSoup(open('MUFC.html'))\n",
    "# for script in soup.find_all('script'):\n",
    "#     script.extract()\n",
    "\n",
    "import json\n",
    "import requests as r \n",
    "from bs4 import BeautifulSoup\n",
    "with open('travel_latest20161207.json', 'rb') as f:\n",
    "    data_list = json.load(f)\n",
    "\n",
    "article_list = []\n",
    "url_list = []\n",
    "\n",
    "for x, data in enumerate(data_list):\n",
    "    URL = data['url']\n",
    "    res = r.get(URL)\n",
    "    res.encoding = 'utf-8'\n",
    "    soup1 = BeautifulSoup(res.text, 'lxml')  #for抓內文\n",
    "    soup2 = BeautifulSoup(res.text, 'lxml')  #for抓內文\n",
    "    for rm_tag in soup1.find_all(['script','a']):\n",
    "        rm_tag.extract()\n",
    "    articles = soup1.select('div.article-content')\n",
    "    suburls = soup2.select('div.article-content')\n",
    "    \n",
    "    for article in articles:\n",
    "        print x\n",
    "        article_dict = {}\n",
    "        article_dict['no'] = x\n",
    "        article_dict['title'] = data['title']\n",
    "        article_dict['content'] = article.select('.article-content-inner')[0].text.strip().replace('\\n','').replace(',','').\\\n",
    "        replace(' ','')\n",
    "                        \n",
    "\n",
    "        for suburl in suburls:\n",
    "            print URL\n",
    "            try:\n",
    "    #             suburl_dict['article_title'] = data['title']\n",
    "    #             suburl_dict['article_url'] = URL\n",
    "                article_dict['inner_url_href'] = suburl.select('a')[0]['href']\n",
    "                article_dict['inner_url_text'] = suburl.select('a')[0].text\n",
    "                article_list.append(article_dict)\n",
    "            except Exception as e:\n",
    "                article_dict['inner_url_href'] = \"\"\n",
    "                article_dict['inner_url_text'] = \"\"\n",
    "                print e\n",
    "\n",
    "# import json\n",
    "# contentjson = json.dumps(article_list, ensure_ascii=False)\n",
    "# with open('pixnet_latest.json', 'w') as f:\n",
    "#     f.write(contentjson.encode('utf-8'))"
   ]
  },
  {
   "cell_type": "code",
   "execution_count": null,
   "metadata": {
    "collapsed": true
   },
   "outputs": [],
   "source": []
  }
 ],
 "metadata": {
  "anaconda-cloud": {},
  "kernelspec": {
   "display_name": "Python [default]",
   "language": "python",
   "name": "python2"
  },
  "language_info": {
   "codemirror_mode": {
    "name": "ipython",
    "version": 2
   },
   "file_extension": ".py",
   "mimetype": "text/x-python",
   "name": "python",
   "nbconvert_exporter": "python",
   "pygments_lexer": "ipython2",
   "version": "2.7.12"
  }
 },
 "nbformat": 4,
 "nbformat_minor": 1
}
