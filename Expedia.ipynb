{
 "cells": [
  {
   "cell_type": "code",
   "execution_count": 5,
   "metadata": {
    "collapsed": false
   },
   "outputs": [
    {
     "ename": "AttributeError",
     "evalue": "'module' object has no attribute 'find_element_by_name'",
     "output_type": "error",
     "traceback": [
      "\u001b[0;31m\u001b[0m",
      "\u001b[0;31mAttributeError\u001b[0mTraceback (most recent call last)",
      "\u001b[0;32m<ipython-input-5-643ff4244c52>\u001b[0m in \u001b[0;36m<module>\u001b[0;34m()\u001b[0m\n\u001b[1;32m     17\u001b[0m \u001b[0mpassword\u001b[0m\u001b[1;33m.\u001b[0m\u001b[0msend_keys\u001b[0m\u001b[1;33m(\u001b[0m\u001b[1;34m\"177905\"\u001b[0m\u001b[1;33m)\u001b[0m\u001b[1;33m\u001b[0m\u001b[0m\n\u001b[1;32m     18\u001b[0m \u001b[1;33m\u001b[0m\u001b[0m\n\u001b[0;32m---> 19\u001b[0;31m \u001b[0mselenium\u001b[0m\u001b[1;33m.\u001b[0m\u001b[0mfind_element_by_name\u001b[0m\u001b[1;33m(\u001b[0m\u001b[1;34m\"submit\"\u001b[0m\u001b[1;33m)\u001b[0m\u001b[1;33m.\u001b[0m\u001b[0mclick\u001b[0m\u001b[1;33m(\u001b[0m\u001b[1;33m)\u001b[0m\u001b[1;33m\u001b[0m\u001b[0m\n\u001b[0m",
      "\u001b[0;31mAttributeError\u001b[0m: 'module' object has no attribute 'find_element_by_name'"
     ]
    }
   ],
   "source": [
    "#coding:UTF-8\n",
    "\n",
    "import requests\n",
    "import time\n",
    "from bs4 import BeautifulSoup\n",
    "from selenium import webdriver\n",
    "from selenium.webdriver.common.keys import Keys\n",
    "from selenium.webdriver.common.action_chains import ActionChains\n",
    "from selenium.webdriver.support.ui import WebDriverWait\n",
    "from selenium.webdriver.support import expected_conditions as EC\n",
    "from selenium.webdriver.common.by import By\n",
    "import math\n",
    "\n",
    "## 地區先以台灣為主，故須先行設定台灣範圍\n",
    "Block_Info = []\n",
    "typeCount_Info = []\n",
    "cityName_Info = []\n",
    "Hotels_Info = []\n",
    "Hotel_Info = []\n",
    "address_Info = []\n",
    "url_base = 'https://www.expedia.com.tw'\n",
    "url = url_base+\"/Hotel-Search?#destination=%E5%8F%B0%E7%81%A3&startDate=2017/02/16&endDate=2017/02/17&adults=2&regionId=176&sort=recommended&page=7\"\n",
    "driver = webdriver.Remote(\"http://localhost:9515\", webdriver.DesiredCapabilities.CHROME)\n",
    "driver.get(url)\n",
    "# driver1 = webdriver.Remote(\"http://localhost:9515\", webdriver.DesiredCapabilities.CHROME)\n",
    "# driver2 = webdriver.Remote(\"http://localhost:9515\", webdriver.DesiredCapabilities.CHROME)\n",
    "# driver.get(url_base+'/Place/Taiwan.htm')\n",
    "soup = BeautifulSoup(driver.page_source)\n",
    "block = soup.select('#cityContainer > div > div > div.col')\n",
    "\n",
    "# print type(block)\n",
    "print block\n",
    "## 抓取地區名稱以及該區域網址 for 進入抓取資料用\n",
    "for i in block:\n",
    "    try:\n",
    "        Block_dict = {}\n",
    "        Block_dict['Block_Name'] = i.text\n",
    "        # print Block_dict['Block_Name']\n",
    "        # Block_dict['web'] = url_base + i.select_one('a')['href']\n",
    "        # print Block_dict['web']\n",
    "    except Exception as e:\n",
    "        print e\n",
    "    Block_Info.append(Block_dict)\n",
    "#========== 觀察抓取資訊 ===========#\n",
    "for i in Block_Info:\n",
    "    print i\n",
    "#=================================#"
   ]
  },
  {
   "cell_type": "code",
   "execution_count": null,
   "metadata": {
    "collapsed": true
   },
   "outputs": [],
   "source": []
  },
  {
   "cell_type": "code",
   "execution_count": 4,
   "metadata": {
    "collapsed": false
   },
   "outputs": [
    {
     "ename": "AttributeError",
     "evalue": "'int' object has no attribute 'select'",
     "output_type": "error",
     "traceback": [
      "\u001b[0;31m\u001b[0m",
      "\u001b[0;31mAttributeError\u001b[0mTraceback (most recent call last)",
      "\u001b[0;32m<ipython-input-4-7c68f79d1dbd>\u001b[0m in \u001b[0;36m<module>\u001b[0;34m()\u001b[0m\n\u001b[1;32m     35\u001b[0m         \u001b[0mrm_tag\u001b[0m\u001b[1;33m.\u001b[0m\u001b[0mextract\u001b[0m\u001b[1;33m(\u001b[0m\u001b[1;33m)\u001b[0m\u001b[1;33m\u001b[0m\u001b[0m\n\u001b[1;32m     36\u001b[0m     \u001b[0mres\u001b[0m \u001b[1;33m=\u001b[0m \u001b[0msoup\u001b[0m\u001b[1;33m.\u001b[0m\u001b[0mselect\u001b[0m\u001b[1;33m(\u001b[0m\u001b[1;34m'.segment.no-target.review.cf.translate-original'\u001b[0m\u001b[1;33m)\u001b[0m\u001b[1;33m\u001b[0m\u001b[0m\n\u001b[0;32m---> 37\u001b[0;31m     \u001b[1;32mprint\u001b[0m \u001b[0mi\u001b[0m\u001b[1;33m.\u001b[0m\u001b[0mselect\u001b[0m\u001b[1;33m(\u001b[0m\u001b[1;34m'div.details'\u001b[0m\u001b[1;33m)\u001b[0m\u001b[1;33m\u001b[0m\u001b[0m\n\u001b[0m\u001b[1;32m     38\u001b[0m \u001b[1;31m#     for i in  res:\u001b[0m\u001b[1;33m\u001b[0m\u001b[1;33m\u001b[0m\u001b[0m\n\u001b[1;32m     39\u001b[0m \u001b[1;31m#         print i.select('div.details')[0].text.encode('utf-8').split(\"此\")[0].replace(\"\\n+\",\",\").replace(\"\\t+\",\",\")\u001b[0m\u001b[1;33m\u001b[0m\u001b[1;33m\u001b[0m\u001b[0m\n",
      "\u001b[0;31mAttributeError\u001b[0m: 'int' object has no attribute 'select'"
     ]
    }
   ],
   "source": [
    "#coding:UTF-8\n",
    "# Expedia爬蟲\n",
    "from selenium import webdriver\n",
    "from selenium.webdriver.common.by import By\n",
    "from selenium.webdriver.support.ui import WebDriverWait\n",
    "from selenium.webdriver.support import expected_conditions as EC\n",
    "import selenium.webdriver.support.ui as ui\n",
    "import time\n",
    "import re\n",
    "import math\n",
    "import requests\n",
    "from bs4 import BeautifulSoup\n",
    "from datetime import datetime\n",
    "\n",
    "s1 = datetime.now()\n",
    "n=3\n",
    "URL='https://www.expedia.com.tw/Taipei-Hotels-Royal-Seasons-Hotel-Taipei.h2510620.Hotel-Information?rm1=a2&hwrqCacheKey=05f5e56a-df26-482f-b889-1ba9b3b26e14HWRQ1481006608216&c=cb9482ea-97e3-408b-96d6-356db32fd953&&exp_dp=1856.52&exp_ts=1481006608888&exp_curr=TWD&exp_pg=HSR'\n",
    "driver1 = webdriver.Remote(\"http://localhost:9515\", webdriver.DesiredCapabilities.CHROME)\n",
    "driver1.get(URL)\n",
    "time.sleep(n)\n",
    "element =WebDriverWait(driver1, 100).until(EC.presence_of_element_located((By.CSS_SELECTOR,\"#modalCloseButton > span.icon.icon-close\")))\n",
    "# print element\n",
    "time.sleep(n)\n",
    "element.click()\n",
    "driver1.execute_script('window.scrollTo(0, 1500);')\n",
    "time.sleep(n)\n",
    "driver1.find_element_by_css_selector('#tab-reviews').click()\n",
    "soup_page = BeautifulSoup(driver1.page_source)\n",
    "page = soup_page.select_one(\"#reviews-pagination > fieldset > p\")\n",
    "# print page\n",
    "pageCount = int(math.ceil(int(page.text.split(\" \")[6]) / 10))\n",
    "for i in range(1,3):#pageCount+2):\n",
    "    soup = BeautifulSoup(driver1.page_source,'lxml')\n",
    "    for rm_tag in soup.find_all(['button']):\n",
    "        rm_tag.extract()\n",
    "    res = soup.select('.segment.no-target.review.cf.translate-original')\n",
    "    print i.select('div.details')\n",
    "#     for i in  res:        \n",
    "#         print i.select('div.details')[0].text.encode('utf-8').split(\"此\")[0].replace(\"\\n+\",\",\").replace(\"\\t+\",\",\")\n",
    "    time.sleep(n)\n",
    "    driver1.execute_script('window.scrollTo(0, 1500);')\n",
    "    try:\n",
    "        driver1.find_element_by_css_selector('#reviews-pagination > fieldset > div > button.pagination-next > abbr').click()\n",
    "    except Exception as e:\n",
    "        print \"This is end\"\n",
    "    time.sleep(n)\n",
    "driver1.quit()\n",
    "s2 = datetime.now() ####### 結束時間\n",
    "print \"All  Finish \"+str(s2-s1)+\"!!\" ####### 總共爬取資料耗費時間\n",
    "\n"
   ]
  },
  {
   "cell_type": "code",
   "execution_count": null,
   "metadata": {
    "collapsed": true
   },
   "outputs": [],
   "source": []
  }
 ],
 "metadata": {
  "kernelspec": {
   "display_name": "Python [default]",
   "language": "python",
   "name": "python2"
  },
  "language_info": {
   "codemirror_mode": {
    "name": "ipython",
    "version": 2
   },
   "file_extension": ".py",
   "mimetype": "text/x-python",
   "name": "python",
   "nbconvert_exporter": "python",
   "pygments_lexer": "ipython2",
   "version": "2.7.12"
  }
 },
 "nbformat": 4,
 "nbformat_minor": 1
}
