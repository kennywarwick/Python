{
 "cells": [
  {
   "cell_type": "markdown",
   "metadata": {},
   "source": [
    "## 台灣各地區網站網址"
   ]
  },
  {
   "cell_type": "code",
   "execution_count": 7,
   "metadata": {
    "collapsed": true
   },
   "outputs": [
    {
     "name": "stderr",
     "output_type": "stream",
     "text": [
      "C:\\Users\\BIG DATA\\Anaconda2\\lib\\site-packages\\requests\\packages\\urllib3\\connectionpool.py:838: InsecureRequestWarning: Unverified HTTPS request is being made. Adding certificate verification is strongly advised. See: https://urllib3.readthedocs.io/en/latest/security.html\n",
      "  InsecureRequestWarning)\n"
     ]
    },
    {
     "name": "stdout",
     "output_type": "stream",
     "text": [
      "{'web': 'https://www.tripadvisor.com.tw/Hotels-g297907-Hualien-Hotels.html', 'HotelName': u'\\u82b1\\u84ee\\u7e23\\u98ef\\u5e97'}\n",
      "{'web': 'https://www.tripadvisor.com.tw/Hotels-g608526-Yilan-Hotels.html', 'HotelName': u'\\u5b9c\\u862d\\u7e23\\u98ef\\u5e97'}\n",
      "{'web': 'https://www.tripadvisor.com.tw/Hotels-g297909-Pingtung-Hotels.html', 'HotelName': u'\\u5c4f\\u6771\\u7e23\\u98ef\\u5e97'}\n",
      "{'web': 'https://www.tripadvisor.com.tw/Hotels-g293913-Taipei-Hotels.html', 'HotelName': u'\\u53f0\\u5317\\u5e02\\u98ef\\u5e97'}\n",
      "{'web': 'https://www.tripadvisor.com.tw/Hotels-g304163-Taitung-Hotels.html', 'HotelName': u'\\u53f0\\u6771\\u7e23\\u98ef\\u5e97'}\n",
      "{'web': 'https://www.tripadvisor.com.tw/Hotels-g304160-Nantou-Hotels.html', 'HotelName': u'\\u5357\\u6295\\u7e23\\u98ef\\u5e97'}\n",
      "{'web': 'https://www.tripadvisor.com.tw/Hotels-g293912-Tainan-Hotels.html', 'HotelName': u'\\u53f0\\u5357\\u5e02\\u98ef\\u5e97'}\n",
      "{'web': 'https://www.tripadvisor.com.tw/Hotels-g297908-Kaohsiung-Hotels.html', 'HotelName': u'\\u9ad8\\u96c4\\u5e02\\u98ef\\u5e97'}\n",
      "{'web': 'https://www.tripadvisor.com.tw/Hotels-g297910-Taichung-Hotels.html', 'HotelName': u'\\u53f0\\u4e2d\\u5e02\\u98ef\\u5e97'}\n",
      "{'web': 'https://www.tripadvisor.com.tw/Hotels-g1432365-Xinbei-Hotels.html', 'HotelName': u'\\u65b0\\u5317\\u5e02\\u98ef\\u5e97'}\n",
      "{'web': 'https://www.tripadvisor.com.tw/Hotels-g1437280-Penghu_County-Hotels.html', 'HotelName': u'\\u6f8e\\u6e56\\u7e23\\u98ef\\u5e97'}\n",
      "{'web': 'https://www.tripadvisor.com.tw/Hotels-g616038-Miaoli-Hotels.html', 'HotelName': u'\\u82d7\\u6817\\u7e23\\u98ef\\u5e97'}\n",
      "{'web': 'https://www.tripadvisor.com.tw/Hotels-g297912-Taoyuan-Hotels.html', 'HotelName': u'\\u6843\\u5712\\u5e02\\u98ef\\u5e97'}\n",
      "{'web': 'https://www.tripadvisor.com.tw/Hotels-g1433864-Chiayi_County-Hotels.html', 'HotelName': u'\\u5609\\u7fa9\\u7e23\\u98ef\\u5e97'}\n",
      "{'web': 'https://www.tripadvisor.com.tw/Hotels-g1152699-Kinmen-Hotels.html', 'HotelName': u'\\u91d1\\u9580\\u7e23\\u98ef\\u5e97'}\n",
      "{'web': 'https://www.tripadvisor.com.tw/Hotels-g297904-Chiayi-Hotels.html', 'HotelName': u'\\u5609\\u7fa9\\u5e02\\u98ef\\u5e97'}\n",
      "{'web': 'https://www.tripadvisor.com.tw/Hotels-g616037-Yunlin-Hotels.html', 'HotelName': u'\\u96f2\\u6797\\u7e23\\u98ef\\u5e97'}\n",
      "{'web': 'https://www.tripadvisor.com.tw/Hotels-g1433865-Hsinchu_County-Hotels.html', 'HotelName': u'\\u65b0\\u7af9\\u7e23\\u98ef\\u5e97'}\n",
      "{'web': 'https://www.tripadvisor.com.tw/Hotels-g304153-Changhua-Hotels.html', 'HotelName': u'\\u5f70\\u5316\\u7e23\\u98ef\\u5e97'}\n",
      "{'web': 'https://www.tripadvisor.com.tw/Hotels-g297906-Hsinchu-Hotels.html', 'HotelName': u'\\u65b0\\u7af9\\u5e02\\u98ef\\u5e97'}\n"
     ]
    }
   ],
   "source": [
    "import requests\n",
    "import time\n",
    "import json\n",
    "from bs4 import BeautifulSoup\n",
    "from selenium import webdriver\n",
    "from selenium.webdriver.common.keys import Keys\n",
    "from selenium.webdriver.common.action_chains import ActionChains\n",
    "from selenium.webdriver.support.ui import WebDriverWait\n",
    "from selenium.webdriver.support import expected_conditions as EC\n",
    "from selenium.webdriver.common.by import By\n",
    "\n",
    "url_base = 'https://www.tripadvisor.com.tw'\n",
    "res = requests.get(url_base + '/Hotels-g293910-Taiwan-Hotels.html',verify=False)\n",
    "soup = BeautifulSoup(res.text)\n",
    "res = soup.select('.geo_wrap')\n",
    "\n",
    "location_Info = []\n",
    "for i in res:\n",
    "    try:\n",
    "        location_dict = {}\n",
    "        location_dict['HotelName']  =  i.select_one('a').text.replace('\\n','')\n",
    "        location_dict['web']  = url_base + i.select_one('a')['href'].strip()  \n",
    "    except Exception as e:\n",
    "        print e        \n",
    "    location_Info.append(location_dict) \n",
    "    \n",
    "for k in location_Info: \n",
    "    print k\n"
   ]
  },
  {
   "cell_type": "markdown",
   "metadata": {},
   "source": [
    "## 類型數量"
   ]
  },
  {
   "cell_type": "code",
   "execution_count": 20,
   "metadata": {
    "collapsed": false,
    "scrolled": false
   },
   "outputs": [
    {
     "name": "stdout",
     "output_type": "stream",
     "text": [
      "Hotels-g297907-Hualien-Hotels.html\n"
     ]
    },
    {
     "name": "stderr",
     "output_type": "stream",
     "text": [
      "C:\\Users\\BIG DATA\\Anaconda2\\lib\\site-packages\\requests\\packages\\urllib3\\connectionpool.py:838: InsecureRequestWarning: Unverified HTTPS request is being made. Adding certificate verification is strongly advised. See: https://urllib3.readthedocs.io/en/latest/security.html\n",
      "  InsecureRequestWarning)\n"
     ]
    },
    {
     "name": "stdout",
     "output_type": "stream",
     "text": [
      "飯店\n",
      "125\n",
      "民宿\n",
      "1,408\n",
      "特色住宿\n",
      "138\n",
      "有特惠方案的飯店\n",
      "30\n",
      "Hotels-g608526-Yilan-Hotels.html\n"
     ]
    },
    {
     "name": "stderr",
     "output_type": "stream",
     "text": [
      "C:\\Users\\BIG DATA\\Anaconda2\\lib\\site-packages\\requests\\packages\\urllib3\\connectionpool.py:838: InsecureRequestWarning: Unverified HTTPS request is being made. Adding certificate verification is strongly advised. See: https://urllib3.readthedocs.io/en/latest/security.html\n",
      "  InsecureRequestWarning)\n"
     ]
    },
    {
     "name": "stdout",
     "output_type": "stream",
     "text": [
      "飯店\n",
      "140\n",
      "民宿\n",
      "1,004\n",
      "特色住宿\n",
      "69\n",
      "有特惠方案的飯店\n",
      "16\n",
      "Hotels-g297909-Pingtung-Hotels.html\n"
     ]
    },
    {
     "name": "stderr",
     "output_type": "stream",
     "text": [
      "C:\\Users\\BIG DATA\\Anaconda2\\lib\\site-packages\\requests\\packages\\urllib3\\connectionpool.py:838: InsecureRequestWarning: Unverified HTTPS request is being made. Adding certificate verification is strongly advised. See: https://urllib3.readthedocs.io/en/latest/security.html\n",
      "  InsecureRequestWarning)\n"
     ]
    },
    {
     "name": "stdout",
     "output_type": "stream",
     "text": [
      "飯店\n",
      "101\n",
      "民宿\n",
      "805\n",
      "特色住宿\n",
      "129\n",
      "有特惠方案的飯店\n",
      "7\n",
      "Hotels-g293913-Taipei-Hotels.html\n"
     ]
    },
    {
     "name": "stderr",
     "output_type": "stream",
     "text": [
      "C:\\Users\\BIG DATA\\Anaconda2\\lib\\site-packages\\requests\\packages\\urllib3\\connectionpool.py:838: InsecureRequestWarning: Unverified HTTPS request is being made. Adding certificate verification is strongly advised. See: https://urllib3.readthedocs.io/en/latest/security.html\n",
      "  InsecureRequestWarning)\n"
     ]
    },
    {
     "name": "stdout",
     "output_type": "stream",
     "text": [
      "飯店\n",
      "546\n",
      "民宿\n",
      "241\n",
      "特色住宿\n",
      "223\n",
      "有特惠方案的飯店\n",
      "39\n",
      "Hotels-g304163-Taitung-Hotels.html\n"
     ]
    },
    {
     "name": "stderr",
     "output_type": "stream",
     "text": [
      "C:\\Users\\BIG DATA\\Anaconda2\\lib\\site-packages\\requests\\packages\\urllib3\\connectionpool.py:838: InsecureRequestWarning: Unverified HTTPS request is being made. Adding certificate verification is strongly advised. See: https://urllib3.readthedocs.io/en/latest/security.html\n",
      "  InsecureRequestWarning)\n"
     ]
    },
    {
     "name": "stdout",
     "output_type": "stream",
     "text": [
      "飯店\n",
      "79\n",
      "民宿\n",
      "789\n",
      "特色住宿\n",
      "68\n",
      "有特惠方案的飯店\n",
      "6\n",
      "Hotels-g304160-Nantou-Hotels.html\n"
     ]
    },
    {
     "name": "stderr",
     "output_type": "stream",
     "text": [
      "C:\\Users\\BIG DATA\\Anaconda2\\lib\\site-packages\\requests\\packages\\urllib3\\connectionpool.py:838: InsecureRequestWarning: Unverified HTTPS request is being made. Adding certificate verification is strongly advised. See: https://urllib3.readthedocs.io/en/latest/security.html\n",
      "  InsecureRequestWarning)\n"
     ]
    },
    {
     "name": "stdout",
     "output_type": "stream",
     "text": [
      "飯店\n",
      "120\n",
      "民宿\n",
      "622\n",
      "特色住宿\n",
      "50\n",
      "有特惠方案的飯店\n",
      "8\n",
      "Hotels-g293912-Tainan-Hotels.html\n"
     ]
    },
    {
     "name": "stderr",
     "output_type": "stream",
     "text": [
      "C:\\Users\\BIG DATA\\Anaconda2\\lib\\site-packages\\requests\\packages\\urllib3\\connectionpool.py:838: InsecureRequestWarning: Unverified HTTPS request is being made. Adding certificate verification is strongly advised. See: https://urllib3.readthedocs.io/en/latest/security.html\n",
      "  InsecureRequestWarning)\n"
     ]
    },
    {
     "name": "stdout",
     "output_type": "stream",
     "text": [
      "飯店\n",
      "238\n",
      "民宿\n",
      "430\n",
      "特色住宿\n",
      "95\n",
      "有特惠方案的飯店\n",
      "4\n",
      "Hotels-g297908-Kaohsiung-Hotels.html\n"
     ]
    },
    {
     "name": "stderr",
     "output_type": "stream",
     "text": [
      "C:\\Users\\BIG DATA\\Anaconda2\\lib\\site-packages\\requests\\packages\\urllib3\\connectionpool.py:838: InsecureRequestWarning: Unverified HTTPS request is being made. Adding certificate verification is strongly advised. See: https://urllib3.readthedocs.io/en/latest/security.html\n",
      "  InsecureRequestWarning)\n"
     ]
    },
    {
     "name": "stdout",
     "output_type": "stream",
     "text": [
      "飯店\n",
      "304\n",
      "民宿\n",
      "160\n",
      "特色住宿\n",
      "86\n",
      "有特惠方案的飯店\n",
      "9\n",
      "Hotels-g297910-Taichung-Hotels.html\n"
     ]
    },
    {
     "name": "stderr",
     "output_type": "stream",
     "text": [
      "C:\\Users\\BIG DATA\\Anaconda2\\lib\\site-packages\\requests\\packages\\urllib3\\connectionpool.py:838: InsecureRequestWarning: Unverified HTTPS request is being made. Adding certificate verification is strongly advised. See: https://urllib3.readthedocs.io/en/latest/security.html\n",
      "  InsecureRequestWarning)\n"
     ]
    },
    {
     "name": "stdout",
     "output_type": "stream",
     "text": [
      "飯店\n",
      "255\n",
      "民宿\n",
      "210\n",
      "特色住宿\n",
      "77\n",
      "有特惠方案的飯店\n",
      "9\n",
      "Hotels-g1432365-Xinbei-Hotels.html\n"
     ]
    },
    {
     "name": "stderr",
     "output_type": "stream",
     "text": [
      "C:\\Users\\BIG DATA\\Anaconda2\\lib\\site-packages\\requests\\packages\\urllib3\\connectionpool.py:838: InsecureRequestWarning: Unverified HTTPS request is being made. Adding certificate verification is strongly advised. See: https://urllib3.readthedocs.io/en/latest/security.html\n",
      "  InsecureRequestWarning)\n"
     ]
    },
    {
     "name": "stdout",
     "output_type": "stream",
     "text": [
      "飯店\n",
      "168\n",
      "民宿\n",
      "232\n",
      "特色住宿\n",
      "41\n",
      "有特惠方案的飯店\n",
      "13\n",
      "Hotels-g1437280-Penghu_County-Hotels.html\n"
     ]
    },
    {
     "name": "stderr",
     "output_type": "stream",
     "text": [
      "C:\\Users\\BIG DATA\\Anaconda2\\lib\\site-packages\\requests\\packages\\urllib3\\connectionpool.py:838: InsecureRequestWarning: Unverified HTTPS request is being made. Adding certificate verification is strongly advised. See: https://urllib3.readthedocs.io/en/latest/security.html\n",
      "  InsecureRequestWarning)\n"
     ]
    },
    {
     "name": "stdout",
     "output_type": "stream",
     "text": [
      "飯店\n",
      "30\n",
      "民宿\n",
      "286\n",
      "特色住宿\n",
      "13\n",
      "有特惠方案的飯店\n",
      "1\n",
      "Hotels-g616038-Miaoli-Hotels.html\n"
     ]
    },
    {
     "name": "stderr",
     "output_type": "stream",
     "text": [
      "C:\\Users\\BIG DATA\\Anaconda2\\lib\\site-packages\\requests\\packages\\urllib3\\connectionpool.py:838: InsecureRequestWarning: Unverified HTTPS request is being made. Adding certificate verification is strongly advised. See: https://urllib3.readthedocs.io/en/latest/security.html\n",
      "  InsecureRequestWarning)\n"
     ]
    },
    {
     "name": "stdout",
     "output_type": "stream",
     "text": [
      "飯店\n",
      "30\n",
      "民宿\n",
      "213\n",
      "特色住宿\n",
      "7\n",
      "Hotels-g297912-Taoyuan-Hotels.html\n"
     ]
    },
    {
     "name": "stderr",
     "output_type": "stream",
     "text": [
      "C:\\Users\\BIG DATA\\Anaconda2\\lib\\site-packages\\requests\\packages\\urllib3\\connectionpool.py:838: InsecureRequestWarning: Unverified HTTPS request is being made. Adding certificate verification is strongly advised. See: https://urllib3.readthedocs.io/en/latest/security.html\n",
      "  InsecureRequestWarning)\n"
     ]
    },
    {
     "name": "stdout",
     "output_type": "stream",
     "text": [
      "飯店\n",
      "126\n",
      "民宿\n",
      "46\n",
      "特色住宿\n",
      "8\n",
      "有特惠方案的飯店\n",
      "7\n",
      "Hotels-g1433864-Chiayi_County-Hotels.html\n"
     ]
    },
    {
     "name": "stderr",
     "output_type": "stream",
     "text": [
      "C:\\Users\\BIG DATA\\Anaconda2\\lib\\site-packages\\requests\\packages\\urllib3\\connectionpool.py:838: InsecureRequestWarning: Unverified HTTPS request is being made. Adding certificate verification is strongly advised. See: https://urllib3.readthedocs.io/en/latest/security.html\n",
      "  InsecureRequestWarning)\n"
     ]
    },
    {
     "name": "stdout",
     "output_type": "stream",
     "text": [
      "飯店\n",
      "34\n",
      "民宿\n",
      "130\n",
      "特色住宿\n",
      "12\n",
      "有特惠方案的飯店\n",
      "2\n",
      "Hotels-g1152699-Kinmen-Hotels.html\n"
     ]
    },
    {
     "name": "stderr",
     "output_type": "stream",
     "text": [
      "C:\\Users\\BIG DATA\\Anaconda2\\lib\\site-packages\\requests\\packages\\urllib3\\connectionpool.py:838: InsecureRequestWarning: Unverified HTTPS request is being made. Adding certificate verification is strongly advised. See: https://urllib3.readthedocs.io/en/latest/security.html\n",
      "  InsecureRequestWarning)\n"
     ]
    },
    {
     "name": "stdout",
     "output_type": "stream",
     "text": [
      "飯店\n",
      "12\n",
      "民宿\n",
      "139\n",
      "特色住宿\n",
      "16\n",
      "Hotels-g297904-Chiayi-Hotels.html\n"
     ]
    },
    {
     "name": "stderr",
     "output_type": "stream",
     "text": [
      "C:\\Users\\BIG DATA\\Anaconda2\\lib\\site-packages\\requests\\packages\\urllib3\\connectionpool.py:838: InsecureRequestWarning: Unverified HTTPS request is being made. Adding certificate verification is strongly advised. See: https://urllib3.readthedocs.io/en/latest/security.html\n",
      "  InsecureRequestWarning)\n"
     ]
    },
    {
     "name": "stdout",
     "output_type": "stream",
     "text": [
      "飯店\n",
      "61\n",
      "民宿\n",
      "18\n",
      "特色住宿\n",
      "10\n",
      "有特惠方案的飯店\n",
      "2\n",
      "Hotels-g616037-Yunlin-Hotels.html\n"
     ]
    },
    {
     "name": "stderr",
     "output_type": "stream",
     "text": [
      "C:\\Users\\BIG DATA\\Anaconda2\\lib\\site-packages\\requests\\packages\\urllib3\\connectionpool.py:838: InsecureRequestWarning: Unverified HTTPS request is being made. Adding certificate verification is strongly advised. See: https://urllib3.readthedocs.io/en/latest/security.html\n",
      "  InsecureRequestWarning)\n"
     ]
    },
    {
     "name": "stdout",
     "output_type": "stream",
     "text": [
      "飯店\n",
      "23\n",
      "民宿\n",
      "58\n",
      "特色住宿\n",
      "2\n",
      "Hotels-g1433865-Hsinchu_County-Hotels.html\n"
     ]
    },
    {
     "name": "stderr",
     "output_type": "stream",
     "text": [
      "C:\\Users\\BIG DATA\\Anaconda2\\lib\\site-packages\\requests\\packages\\urllib3\\connectionpool.py:838: InsecureRequestWarning: Unverified HTTPS request is being made. Adding certificate verification is strongly advised. See: https://urllib3.readthedocs.io/en/latest/security.html\n",
      "  InsecureRequestWarning)\n"
     ]
    },
    {
     "name": "stdout",
     "output_type": "stream",
     "text": [
      "飯店\n",
      "16\n",
      "民宿\n",
      "54\n",
      "特色住宿\n",
      "5\n",
      "Hotels-g304153-Changhua-Hotels.html\n"
     ]
    },
    {
     "name": "stderr",
     "output_type": "stream",
     "text": [
      "C:\\Users\\BIG DATA\\Anaconda2\\lib\\site-packages\\requests\\packages\\urllib3\\connectionpool.py:838: InsecureRequestWarning: Unverified HTTPS request is being made. Adding certificate verification is strongly advised. See: https://urllib3.readthedocs.io/en/latest/security.html\n",
      "  InsecureRequestWarning)\n"
     ]
    },
    {
     "name": "stdout",
     "output_type": "stream",
     "text": [
      "飯店\n",
      "23\n",
      "民宿\n",
      "32\n",
      "特色住宿\n",
      "6\n",
      "Hotels-g297906-Hsinchu-Hotels.html\n"
     ]
    },
    {
     "name": "stderr",
     "output_type": "stream",
     "text": [
      "C:\\Users\\BIG DATA\\Anaconda2\\lib\\site-packages\\requests\\packages\\urllib3\\connectionpool.py:838: InsecureRequestWarning: Unverified HTTPS request is being made. Adding certificate verification is strongly advised. See: https://urllib3.readthedocs.io/en/latest/security.html\n",
      "  InsecureRequestWarning)\n"
     ]
    },
    {
     "name": "stdout",
     "output_type": "stream",
     "text": [
      "飯店\n",
      "54\n",
      "民宿\n",
      "5\n",
      "特色住宿\n",
      "1\n"
     ]
    }
   ],
   "source": [
    "typeCount_Info = []\n",
    "for k in location_Info: \n",
    "    url = k.get('web')  ##抓取字典裡面 web 之部分\n",
    "    print url.split(\"tw/\")[1]\n",
    "#     url = 'https://www.tripadvisor.com.tw/Hotels-g293913-Taipei-Hotels.html'\n",
    "    res = requests.get(url,verify=False)\n",
    "    soup = BeautifulSoup(res.text)\n",
    "    res = soup.findAll(class_= 'tab_contents')\n",
    "    # print res\n",
    "\n",
    "    for i in res:\n",
    "        try:\n",
    "            typeCount_dict = {}\n",
    "            typeCount_dict['Type']  =  i.select_one('.tab_label').text.replace('\\n','')\n",
    "            print typeCount_dict['Type'] \n",
    "            typeCount_dict['count']  = i.select_one('.tab_count').text.strip().split('(')[1].split(')')[0]\n",
    "            print typeCount_dict['count'] \n",
    "        except Exception as e:\n",
    "            print e        \n",
    "        typeCount_Info.append(typeCount_dict) \n",
    "\n",
    "#         for k in typeCount_Info: \n",
    "#             print k\n",
    "\n",
    " \n",
    "\n",
    "myjson = json.dumps(typeCount_Info, ensure_ascii=False) # This is a unicode string\n",
    "with open('Count.json', 'w') as f:\n",
    "    f.write(myjson.encode('utf-8'))"
   ]
  },
  {
   "cell_type": "markdown",
   "metadata": {},
   "source": [
    "## 地區飯店匯總"
   ]
  },
  {
   "cell_type": "code",
   "execution_count": 4,
   "metadata": {
    "collapsed": false
   },
   "outputs": [
    {
     "name": "stdout",
     "output_type": "stream",
     "text": [
      "1\n",
      "2\n",
      "3\n",
      "3\n",
      "4\n",
      "4\n"
     ]
    },
    {
     "ename": "KeyboardInterrupt",
     "evalue": "",
     "output_type": "error",
     "traceback": [
      "\u001b[0;31m\u001b[0m",
      "\u001b[0;31mKeyboardInterrupt\u001b[0mTraceback (most recent call last)",
      "\u001b[0;32m<ipython-input-4-02e325b178ba>\u001b[0m in \u001b[0;36m<module>\u001b[0;34m()\u001b[0m\n\u001b[1;32m     35\u001b[0m     \u001b[0mmenu\u001b[0m \u001b[1;33m=\u001b[0m \u001b[0mdriver\u001b[0m\u001b[1;33m.\u001b[0m\u001b[0mfind_element_by_css_selector\u001b[0m\u001b[1;33m(\u001b[0m\u001b[1;34m'a.next'\u001b[0m\u001b[1;33m)\u001b[0m\u001b[1;33m\u001b[0m\u001b[0m\n\u001b[1;32m     36\u001b[0m \u001b[1;31m#     menu = driver.find_element_by_class_name('next')\u001b[0m\u001b[1;33m\u001b[0m\u001b[1;33m\u001b[0m\u001b[0m\n\u001b[0;32m---> 37\u001b[0;31m     \u001b[0mActionChains\u001b[0m\u001b[1;33m(\u001b[0m\u001b[0mdriver\u001b[0m\u001b[1;33m)\u001b[0m\u001b[1;33m.\u001b[0m\u001b[0mmove_to_element\u001b[0m\u001b[1;33m(\u001b[0m\u001b[0mmenu\u001b[0m\u001b[1;33m)\u001b[0m\u001b[1;33m.\u001b[0m\u001b[0mclick\u001b[0m\u001b[1;33m(\u001b[0m\u001b[1;33m)\u001b[0m\u001b[1;33m.\u001b[0m\u001b[0mperform\u001b[0m\u001b[1;33m(\u001b[0m\u001b[1;33m)\u001b[0m\u001b[1;33m\u001b[0m\u001b[0m\n\u001b[0m\u001b[1;32m     38\u001b[0m     \u001b[0mtime\u001b[0m\u001b[1;33m.\u001b[0m\u001b[0msleep\u001b[0m\u001b[1;33m(\u001b[0m\u001b[1;36m3\u001b[0m\u001b[1;33m)\u001b[0m\u001b[1;33m\u001b[0m\u001b[0m\n\u001b[1;32m     39\u001b[0m \u001b[1;33m\u001b[0m\u001b[0m\n",
      "\u001b[0;32mC:\\Users\\BIG DATA\\Anaconda2\\lib\\site-packages\\selenium\\webdriver\\common\\action_chains.pyc\u001b[0m in \u001b[0;36mperform\u001b[0;34m(self)\u001b[0m\n\u001b[1;32m     72\u001b[0m         \"\"\"\n\u001b[1;32m     73\u001b[0m         \u001b[1;32mfor\u001b[0m \u001b[0maction\u001b[0m \u001b[1;32min\u001b[0m \u001b[0mself\u001b[0m\u001b[1;33m.\u001b[0m\u001b[0m_actions\u001b[0m\u001b[1;33m:\u001b[0m\u001b[1;33m\u001b[0m\u001b[0m\n\u001b[0;32m---> 74\u001b[0;31m             \u001b[0maction\u001b[0m\u001b[1;33m(\u001b[0m\u001b[1;33m)\u001b[0m\u001b[1;33m\u001b[0m\u001b[0m\n\u001b[0m\u001b[1;32m     75\u001b[0m \u001b[1;33m\u001b[0m\u001b[0m\n\u001b[1;32m     76\u001b[0m     \u001b[1;32mdef\u001b[0m \u001b[0mclick\u001b[0m\u001b[1;33m(\u001b[0m\u001b[0mself\u001b[0m\u001b[1;33m,\u001b[0m \u001b[0mon_element\u001b[0m\u001b[1;33m=\u001b[0m\u001b[0mNone\u001b[0m\u001b[1;33m)\u001b[0m\u001b[1;33m:\u001b[0m\u001b[1;33m\u001b[0m\u001b[0m\n",
      "\u001b[0;32mC:\\Users\\BIG DATA\\Anaconda2\\lib\\site-packages\\selenium\\webdriver\\common\\action_chains.pyc\u001b[0m in \u001b[0;36m<lambda>\u001b[0;34m()\u001b[0m\n\u001b[1;32m    223\u001b[0m         \"\"\"\n\u001b[1;32m    224\u001b[0m         self._actions.append(lambda: self._driver.execute(\n\u001b[0;32m--> 225\u001b[0;31m             Command.MOVE_TO, {'element': to_element.id}))\n\u001b[0m\u001b[1;32m    226\u001b[0m         \u001b[1;32mreturn\u001b[0m \u001b[0mself\u001b[0m\u001b[1;33m\u001b[0m\u001b[0m\n\u001b[1;32m    227\u001b[0m \u001b[1;33m\u001b[0m\u001b[0m\n",
      "\u001b[0;32mC:\\Users\\BIG DATA\\Anaconda2\\lib\\site-packages\\selenium\\webdriver\\remote\\webdriver.pyc\u001b[0m in \u001b[0;36mexecute\u001b[0;34m(self, driver_command, params)\u001b[0m\n\u001b[1;32m    232\u001b[0m \u001b[1;33m\u001b[0m\u001b[0m\n\u001b[1;32m    233\u001b[0m         \u001b[0mparams\u001b[0m \u001b[1;33m=\u001b[0m \u001b[0mself\u001b[0m\u001b[1;33m.\u001b[0m\u001b[0m_wrap_value\u001b[0m\u001b[1;33m(\u001b[0m\u001b[0mparams\u001b[0m\u001b[1;33m)\u001b[0m\u001b[1;33m\u001b[0m\u001b[0m\n\u001b[0;32m--> 234\u001b[0;31m         \u001b[0mresponse\u001b[0m \u001b[1;33m=\u001b[0m \u001b[0mself\u001b[0m\u001b[1;33m.\u001b[0m\u001b[0mcommand_executor\u001b[0m\u001b[1;33m.\u001b[0m\u001b[0mexecute\u001b[0m\u001b[1;33m(\u001b[0m\u001b[0mdriver_command\u001b[0m\u001b[1;33m,\u001b[0m \u001b[0mparams\u001b[0m\u001b[1;33m)\u001b[0m\u001b[1;33m\u001b[0m\u001b[0m\n\u001b[0m\u001b[1;32m    235\u001b[0m         \u001b[1;32mif\u001b[0m \u001b[0mresponse\u001b[0m\u001b[1;33m:\u001b[0m\u001b[1;33m\u001b[0m\u001b[0m\n\u001b[1;32m    236\u001b[0m             \u001b[0mself\u001b[0m\u001b[1;33m.\u001b[0m\u001b[0merror_handler\u001b[0m\u001b[1;33m.\u001b[0m\u001b[0mcheck_response\u001b[0m\u001b[1;33m(\u001b[0m\u001b[0mresponse\u001b[0m\u001b[1;33m)\u001b[0m\u001b[1;33m\u001b[0m\u001b[0m\n",
      "\u001b[0;32mC:\\Users\\BIG DATA\\Anaconda2\\lib\\site-packages\\selenium\\webdriver\\remote\\remote_connection.pyc\u001b[0m in \u001b[0;36mexecute\u001b[0;34m(self, command, params)\u001b[0m\n\u001b[1;32m    405\u001b[0m         \u001b[0mpath\u001b[0m \u001b[1;33m=\u001b[0m \u001b[0mstring\u001b[0m\u001b[1;33m.\u001b[0m\u001b[0mTemplate\u001b[0m\u001b[1;33m(\u001b[0m\u001b[0mcommand_info\u001b[0m\u001b[1;33m[\u001b[0m\u001b[1;36m1\u001b[0m\u001b[1;33m]\u001b[0m\u001b[1;33m)\u001b[0m\u001b[1;33m.\u001b[0m\u001b[0msubstitute\u001b[0m\u001b[1;33m(\u001b[0m\u001b[0mparams\u001b[0m\u001b[1;33m)\u001b[0m\u001b[1;33m\u001b[0m\u001b[0m\n\u001b[1;32m    406\u001b[0m         \u001b[0murl\u001b[0m \u001b[1;33m=\u001b[0m \u001b[1;34m'%s%s'\u001b[0m \u001b[1;33m%\u001b[0m \u001b[1;33m(\u001b[0m\u001b[0mself\u001b[0m\u001b[1;33m.\u001b[0m\u001b[0m_url\u001b[0m\u001b[1;33m,\u001b[0m \u001b[0mpath\u001b[0m\u001b[1;33m)\u001b[0m\u001b[1;33m\u001b[0m\u001b[0m\n\u001b[0;32m--> 407\u001b[0;31m         \u001b[1;32mreturn\u001b[0m \u001b[0mself\u001b[0m\u001b[1;33m.\u001b[0m\u001b[0m_request\u001b[0m\u001b[1;33m(\u001b[0m\u001b[0mcommand_info\u001b[0m\u001b[1;33m[\u001b[0m\u001b[1;36m0\u001b[0m\u001b[1;33m]\u001b[0m\u001b[1;33m,\u001b[0m \u001b[0murl\u001b[0m\u001b[1;33m,\u001b[0m \u001b[0mbody\u001b[0m\u001b[1;33m=\u001b[0m\u001b[0mdata\u001b[0m\u001b[1;33m)\u001b[0m\u001b[1;33m\u001b[0m\u001b[0m\n\u001b[0m\u001b[1;32m    408\u001b[0m \u001b[1;33m\u001b[0m\u001b[0m\n\u001b[1;32m    409\u001b[0m     \u001b[1;32mdef\u001b[0m \u001b[0m_request\u001b[0m\u001b[1;33m(\u001b[0m\u001b[0mself\u001b[0m\u001b[1;33m,\u001b[0m \u001b[0mmethod\u001b[0m\u001b[1;33m,\u001b[0m \u001b[0murl\u001b[0m\u001b[1;33m,\u001b[0m \u001b[0mbody\u001b[0m\u001b[1;33m=\u001b[0m\u001b[0mNone\u001b[0m\u001b[1;33m)\u001b[0m\u001b[1;33m:\u001b[0m\u001b[1;33m\u001b[0m\u001b[0m\n",
      "\u001b[0;32mC:\\Users\\BIG DATA\\Anaconda2\\lib\\site-packages\\selenium\\webdriver\\remote\\remote_connection.pyc\u001b[0m in \u001b[0;36m_request\u001b[0;34m(self, method, url, body)\u001b[0m\n\u001b[1;32m    475\u001b[0m                 opener = url_request.build_opener(url_request.HTTPRedirectHandler(),\n\u001b[1;32m    476\u001b[0m                                                   HttpErrorHandler())\n\u001b[0;32m--> 477\u001b[0;31m             \u001b[0mresp\u001b[0m \u001b[1;33m=\u001b[0m \u001b[0mopener\u001b[0m\u001b[1;33m.\u001b[0m\u001b[0mopen\u001b[0m\u001b[1;33m(\u001b[0m\u001b[0mrequest\u001b[0m\u001b[1;33m,\u001b[0m \u001b[0mtimeout\u001b[0m\u001b[1;33m=\u001b[0m\u001b[0mself\u001b[0m\u001b[1;33m.\u001b[0m\u001b[0m_timeout\u001b[0m\u001b[1;33m)\u001b[0m\u001b[1;33m\u001b[0m\u001b[0m\n\u001b[0m\u001b[1;32m    478\u001b[0m             \u001b[0mstatuscode\u001b[0m \u001b[1;33m=\u001b[0m \u001b[0mresp\u001b[0m\u001b[1;33m.\u001b[0m\u001b[0mcode\u001b[0m\u001b[1;33m\u001b[0m\u001b[0m\n\u001b[1;32m    479\u001b[0m             \u001b[1;32mif\u001b[0m \u001b[1;32mnot\u001b[0m \u001b[0mhasattr\u001b[0m\u001b[1;33m(\u001b[0m\u001b[0mresp\u001b[0m\u001b[1;33m,\u001b[0m \u001b[1;34m'getheader'\u001b[0m\u001b[1;33m)\u001b[0m\u001b[1;33m:\u001b[0m\u001b[1;33m\u001b[0m\u001b[0m\n",
      "\u001b[0;32mC:\\Users\\BIG DATA\\Anaconda2\\lib\\urllib2.pyc\u001b[0m in \u001b[0;36mopen\u001b[0;34m(self, fullurl, data, timeout)\u001b[0m\n\u001b[1;32m    427\u001b[0m             \u001b[0mreq\u001b[0m \u001b[1;33m=\u001b[0m \u001b[0mmeth\u001b[0m\u001b[1;33m(\u001b[0m\u001b[0mreq\u001b[0m\u001b[1;33m)\u001b[0m\u001b[1;33m\u001b[0m\u001b[0m\n\u001b[1;32m    428\u001b[0m \u001b[1;33m\u001b[0m\u001b[0m\n\u001b[0;32m--> 429\u001b[0;31m         \u001b[0mresponse\u001b[0m \u001b[1;33m=\u001b[0m \u001b[0mself\u001b[0m\u001b[1;33m.\u001b[0m\u001b[0m_open\u001b[0m\u001b[1;33m(\u001b[0m\u001b[0mreq\u001b[0m\u001b[1;33m,\u001b[0m \u001b[0mdata\u001b[0m\u001b[1;33m)\u001b[0m\u001b[1;33m\u001b[0m\u001b[0m\n\u001b[0m\u001b[1;32m    430\u001b[0m \u001b[1;33m\u001b[0m\u001b[0m\n\u001b[1;32m    431\u001b[0m         \u001b[1;31m# post-process response\u001b[0m\u001b[1;33m\u001b[0m\u001b[1;33m\u001b[0m\u001b[0m\n",
      "\u001b[0;32mC:\\Users\\BIG DATA\\Anaconda2\\lib\\urllib2.pyc\u001b[0m in \u001b[0;36m_open\u001b[0;34m(self, req, data)\u001b[0m\n\u001b[1;32m    445\u001b[0m         \u001b[0mprotocol\u001b[0m \u001b[1;33m=\u001b[0m \u001b[0mreq\u001b[0m\u001b[1;33m.\u001b[0m\u001b[0mget_type\u001b[0m\u001b[1;33m(\u001b[0m\u001b[1;33m)\u001b[0m\u001b[1;33m\u001b[0m\u001b[0m\n\u001b[1;32m    446\u001b[0m         result = self._call_chain(self.handle_open, protocol, protocol +\n\u001b[0;32m--> 447\u001b[0;31m                                   '_open', req)\n\u001b[0m\u001b[1;32m    448\u001b[0m         \u001b[1;32mif\u001b[0m \u001b[0mresult\u001b[0m\u001b[1;33m:\u001b[0m\u001b[1;33m\u001b[0m\u001b[0m\n\u001b[1;32m    449\u001b[0m             \u001b[1;32mreturn\u001b[0m \u001b[0mresult\u001b[0m\u001b[1;33m\u001b[0m\u001b[0m\n",
      "\u001b[0;32mC:\\Users\\BIG DATA\\Anaconda2\\lib\\urllib2.pyc\u001b[0m in \u001b[0;36m_call_chain\u001b[0;34m(self, chain, kind, meth_name, *args)\u001b[0m\n\u001b[1;32m    405\u001b[0m             \u001b[0mfunc\u001b[0m \u001b[1;33m=\u001b[0m \u001b[0mgetattr\u001b[0m\u001b[1;33m(\u001b[0m\u001b[0mhandler\u001b[0m\u001b[1;33m,\u001b[0m \u001b[0mmeth_name\u001b[0m\u001b[1;33m)\u001b[0m\u001b[1;33m\u001b[0m\u001b[0m\n\u001b[1;32m    406\u001b[0m \u001b[1;33m\u001b[0m\u001b[0m\n\u001b[0;32m--> 407\u001b[0;31m             \u001b[0mresult\u001b[0m \u001b[1;33m=\u001b[0m \u001b[0mfunc\u001b[0m\u001b[1;33m(\u001b[0m\u001b[1;33m*\u001b[0m\u001b[0margs\u001b[0m\u001b[1;33m)\u001b[0m\u001b[1;33m\u001b[0m\u001b[0m\n\u001b[0m\u001b[1;32m    408\u001b[0m             \u001b[1;32mif\u001b[0m \u001b[0mresult\u001b[0m \u001b[1;32mis\u001b[0m \u001b[1;32mnot\u001b[0m \u001b[0mNone\u001b[0m\u001b[1;33m:\u001b[0m\u001b[1;33m\u001b[0m\u001b[0m\n\u001b[1;32m    409\u001b[0m                 \u001b[1;32mreturn\u001b[0m \u001b[0mresult\u001b[0m\u001b[1;33m\u001b[0m\u001b[0m\n",
      "\u001b[0;32mC:\\Users\\BIG DATA\\Anaconda2\\lib\\urllib2.pyc\u001b[0m in \u001b[0;36mhttp_open\u001b[0;34m(self, req)\u001b[0m\n\u001b[1;32m   1226\u001b[0m \u001b[1;33m\u001b[0m\u001b[0m\n\u001b[1;32m   1227\u001b[0m     \u001b[1;32mdef\u001b[0m \u001b[0mhttp_open\u001b[0m\u001b[1;33m(\u001b[0m\u001b[0mself\u001b[0m\u001b[1;33m,\u001b[0m \u001b[0mreq\u001b[0m\u001b[1;33m)\u001b[0m\u001b[1;33m:\u001b[0m\u001b[1;33m\u001b[0m\u001b[0m\n\u001b[0;32m-> 1228\u001b[0;31m         \u001b[1;32mreturn\u001b[0m \u001b[0mself\u001b[0m\u001b[1;33m.\u001b[0m\u001b[0mdo_open\u001b[0m\u001b[1;33m(\u001b[0m\u001b[0mhttplib\u001b[0m\u001b[1;33m.\u001b[0m\u001b[0mHTTPConnection\u001b[0m\u001b[1;33m,\u001b[0m \u001b[0mreq\u001b[0m\u001b[1;33m)\u001b[0m\u001b[1;33m\u001b[0m\u001b[0m\n\u001b[0m\u001b[1;32m   1229\u001b[0m \u001b[1;33m\u001b[0m\u001b[0m\n\u001b[1;32m   1230\u001b[0m     \u001b[0mhttp_request\u001b[0m \u001b[1;33m=\u001b[0m \u001b[0mAbstractHTTPHandler\u001b[0m\u001b[1;33m.\u001b[0m\u001b[0mdo_request_\u001b[0m\u001b[1;33m\u001b[0m\u001b[0m\n",
      "\u001b[0;32mC:\\Users\\BIG DATA\\Anaconda2\\lib\\urllib2.pyc\u001b[0m in \u001b[0;36mdo_open\u001b[0;34m(self, http_class, req, **http_conn_args)\u001b[0m\n\u001b[1;32m   1199\u001b[0m         \u001b[1;32melse\u001b[0m\u001b[1;33m:\u001b[0m\u001b[1;33m\u001b[0m\u001b[0m\n\u001b[1;32m   1200\u001b[0m             \u001b[1;32mtry\u001b[0m\u001b[1;33m:\u001b[0m\u001b[1;33m\u001b[0m\u001b[0m\n\u001b[0;32m-> 1201\u001b[0;31m                 \u001b[0mr\u001b[0m \u001b[1;33m=\u001b[0m \u001b[0mh\u001b[0m\u001b[1;33m.\u001b[0m\u001b[0mgetresponse\u001b[0m\u001b[1;33m(\u001b[0m\u001b[0mbuffering\u001b[0m\u001b[1;33m=\u001b[0m\u001b[0mTrue\u001b[0m\u001b[1;33m)\u001b[0m\u001b[1;33m\u001b[0m\u001b[0m\n\u001b[0m\u001b[1;32m   1202\u001b[0m             \u001b[1;32mexcept\u001b[0m \u001b[0mTypeError\u001b[0m\u001b[1;33m:\u001b[0m \u001b[1;31m# buffering kw not supported\u001b[0m\u001b[1;33m\u001b[0m\u001b[0m\n\u001b[1;32m   1203\u001b[0m                 \u001b[0mr\u001b[0m \u001b[1;33m=\u001b[0m \u001b[0mh\u001b[0m\u001b[1;33m.\u001b[0m\u001b[0mgetresponse\u001b[0m\u001b[1;33m(\u001b[0m\u001b[1;33m)\u001b[0m\u001b[1;33m\u001b[0m\u001b[0m\n",
      "\u001b[0;32mC:\\Users\\BIG DATA\\Anaconda2\\lib\\httplib.pyc\u001b[0m in \u001b[0;36mgetresponse\u001b[0;34m(self, buffering)\u001b[0m\n\u001b[1;32m   1134\u001b[0m \u001b[1;33m\u001b[0m\u001b[0m\n\u001b[1;32m   1135\u001b[0m         \u001b[1;32mtry\u001b[0m\u001b[1;33m:\u001b[0m\u001b[1;33m\u001b[0m\u001b[0m\n\u001b[0;32m-> 1136\u001b[0;31m             \u001b[0mresponse\u001b[0m\u001b[1;33m.\u001b[0m\u001b[0mbegin\u001b[0m\u001b[1;33m(\u001b[0m\u001b[1;33m)\u001b[0m\u001b[1;33m\u001b[0m\u001b[0m\n\u001b[0m\u001b[1;32m   1137\u001b[0m             \u001b[1;32massert\u001b[0m \u001b[0mresponse\u001b[0m\u001b[1;33m.\u001b[0m\u001b[0mwill_close\u001b[0m \u001b[1;33m!=\u001b[0m \u001b[0m_UNKNOWN\u001b[0m\u001b[1;33m\u001b[0m\u001b[0m\n\u001b[1;32m   1138\u001b[0m             \u001b[0mself\u001b[0m\u001b[1;33m.\u001b[0m\u001b[0m__state\u001b[0m \u001b[1;33m=\u001b[0m \u001b[0m_CS_IDLE\u001b[0m\u001b[1;33m\u001b[0m\u001b[0m\n",
      "\u001b[0;32mC:\\Users\\BIG DATA\\Anaconda2\\lib\\httplib.pyc\u001b[0m in \u001b[0;36mbegin\u001b[0;34m(self)\u001b[0m\n\u001b[1;32m    451\u001b[0m         \u001b[1;31m# read until we get a non-100 response\u001b[0m\u001b[1;33m\u001b[0m\u001b[1;33m\u001b[0m\u001b[0m\n\u001b[1;32m    452\u001b[0m         \u001b[1;32mwhile\u001b[0m \u001b[0mTrue\u001b[0m\u001b[1;33m:\u001b[0m\u001b[1;33m\u001b[0m\u001b[0m\n\u001b[0;32m--> 453\u001b[0;31m             \u001b[0mversion\u001b[0m\u001b[1;33m,\u001b[0m \u001b[0mstatus\u001b[0m\u001b[1;33m,\u001b[0m \u001b[0mreason\u001b[0m \u001b[1;33m=\u001b[0m \u001b[0mself\u001b[0m\u001b[1;33m.\u001b[0m\u001b[0m_read_status\u001b[0m\u001b[1;33m(\u001b[0m\u001b[1;33m)\u001b[0m\u001b[1;33m\u001b[0m\u001b[0m\n\u001b[0m\u001b[1;32m    454\u001b[0m             \u001b[1;32mif\u001b[0m \u001b[0mstatus\u001b[0m \u001b[1;33m!=\u001b[0m \u001b[0mCONTINUE\u001b[0m\u001b[1;33m:\u001b[0m\u001b[1;33m\u001b[0m\u001b[0m\n\u001b[1;32m    455\u001b[0m                 \u001b[1;32mbreak\u001b[0m\u001b[1;33m\u001b[0m\u001b[0m\n",
      "\u001b[0;32mC:\\Users\\BIG DATA\\Anaconda2\\lib\\httplib.pyc\u001b[0m in \u001b[0;36m_read_status\u001b[0;34m(self)\u001b[0m\n\u001b[1;32m    407\u001b[0m     \u001b[1;32mdef\u001b[0m \u001b[0m_read_status\u001b[0m\u001b[1;33m(\u001b[0m\u001b[0mself\u001b[0m\u001b[1;33m)\u001b[0m\u001b[1;33m:\u001b[0m\u001b[1;33m\u001b[0m\u001b[0m\n\u001b[1;32m    408\u001b[0m         \u001b[1;31m# Initialize with Simple-Response defaults\u001b[0m\u001b[1;33m\u001b[0m\u001b[1;33m\u001b[0m\u001b[0m\n\u001b[0;32m--> 409\u001b[0;31m         \u001b[0mline\u001b[0m \u001b[1;33m=\u001b[0m \u001b[0mself\u001b[0m\u001b[1;33m.\u001b[0m\u001b[0mfp\u001b[0m\u001b[1;33m.\u001b[0m\u001b[0mreadline\u001b[0m\u001b[1;33m(\u001b[0m\u001b[0m_MAXLINE\u001b[0m \u001b[1;33m+\u001b[0m \u001b[1;36m1\u001b[0m\u001b[1;33m)\u001b[0m\u001b[1;33m\u001b[0m\u001b[0m\n\u001b[0m\u001b[1;32m    410\u001b[0m         \u001b[1;32mif\u001b[0m \u001b[0mlen\u001b[0m\u001b[1;33m(\u001b[0m\u001b[0mline\u001b[0m\u001b[1;33m)\u001b[0m \u001b[1;33m>\u001b[0m \u001b[0m_MAXLINE\u001b[0m\u001b[1;33m:\u001b[0m\u001b[1;33m\u001b[0m\u001b[0m\n\u001b[1;32m    411\u001b[0m             \u001b[1;32mraise\u001b[0m \u001b[0mLineTooLong\u001b[0m\u001b[1;33m(\u001b[0m\u001b[1;34m\"header line\"\u001b[0m\u001b[1;33m)\u001b[0m\u001b[1;33m\u001b[0m\u001b[0m\n",
      "\u001b[0;32mC:\\Users\\BIG DATA\\Anaconda2\\lib\\socket.pyc\u001b[0m in \u001b[0;36mreadline\u001b[0;34m(self, size)\u001b[0m\n\u001b[1;32m    478\u001b[0m             \u001b[1;32mwhile\u001b[0m \u001b[0mTrue\u001b[0m\u001b[1;33m:\u001b[0m\u001b[1;33m\u001b[0m\u001b[0m\n\u001b[1;32m    479\u001b[0m                 \u001b[1;32mtry\u001b[0m\u001b[1;33m:\u001b[0m\u001b[1;33m\u001b[0m\u001b[0m\n\u001b[0;32m--> 480\u001b[0;31m                     \u001b[0mdata\u001b[0m \u001b[1;33m=\u001b[0m \u001b[0mself\u001b[0m\u001b[1;33m.\u001b[0m\u001b[0m_sock\u001b[0m\u001b[1;33m.\u001b[0m\u001b[0mrecv\u001b[0m\u001b[1;33m(\u001b[0m\u001b[0mself\u001b[0m\u001b[1;33m.\u001b[0m\u001b[0m_rbufsize\u001b[0m\u001b[1;33m)\u001b[0m\u001b[1;33m\u001b[0m\u001b[0m\n\u001b[0m\u001b[1;32m    481\u001b[0m                 \u001b[1;32mexcept\u001b[0m \u001b[0merror\u001b[0m\u001b[1;33m,\u001b[0m \u001b[0me\u001b[0m\u001b[1;33m:\u001b[0m\u001b[1;33m\u001b[0m\u001b[0m\n\u001b[1;32m    482\u001b[0m                     \u001b[1;32mif\u001b[0m \u001b[0me\u001b[0m\u001b[1;33m.\u001b[0m\u001b[0margs\u001b[0m\u001b[1;33m[\u001b[0m\u001b[1;36m0\u001b[0m\u001b[1;33m]\u001b[0m \u001b[1;33m==\u001b[0m \u001b[0mEINTR\u001b[0m\u001b[1;33m:\u001b[0m\u001b[1;33m\u001b[0m\u001b[0m\n",
      "\u001b[0;31mKeyboardInterrupt\u001b[0m: "
     ]
    }
   ],
   "source": [
    "# for k in location_Info: \n",
    "#     url = k.get('web')  ##抓取字典裡面 web 之部分\n",
    "#     print url\n",
    "url = 'https://www.tripadvisor.com.tw/Hotels-g293913-Taipei-Hotels.html'\n",
    "driver = webdriver.Remote(\"http://localhost:9515\",webdriver.DesiredCapabilities.CHROME)\n",
    "driver.get(url)\n",
    "# Type =  typeCount_Info.get('Type')\n",
    "\n",
    "for i in range(1,20):\n",
    "    soup = BeautifulSoup(driver.page_source)\n",
    "    res = soup.select('.p13n_imperfect')\n",
    "    res_page = soup.select(\".pageNumbers\")\n",
    "#     print res_page\n",
    "    for i in res_page:\n",
    "        print i.select_one(\".current\").text\n",
    "            #         for i in res:\n",
    "            #             print i.select_one('a').text.replace('\\n','')\n",
    "            #             print url_base + i.select_one('a')['href'].strip()\n",
    "\n",
    "            #     hotels_Info = []\n",
    "            #     for i in res:\n",
    "            #         try:\n",
    "            #             hotels_dict = {}\n",
    "            #             hotels_dict['hotelsName']  =  i.select_one('a').text.replace('\\n','')\n",
    "            #             hotels_dict['web']  = url_base + i.select_one('a')['href'].strip()  \n",
    "            #         except Exception as e:\n",
    "            #             print e        \n",
    "            #         hotels_Info.append(hotels_dict) \n",
    "            #     for k in hotels_Info: \n",
    "            #         print k\n",
    "            #============================================================================================\n",
    "# Implicit Waits\n",
    "## By css or class 此處皆為另可另行代碼，依據不同方法進行爬蟲。\n",
    "\n",
    "    menu = driver.find_element_by_css_selector('a.next')\n",
    "#     menu = driver.find_element_by_class_name('next')\n",
    "    ActionChains(driver).move_to_element(menu).click().perform() \n",
    "    time.sleep(3)\n",
    "    \n",
    "            ## By xpath 1   \n",
    "            #     if(t==0):    \n",
    "            #         driver.find_element_by_xpath('//*[@id=\"ACCOM_OVERVIEW\"]/div[40]/div[2]/div/a').click()\n",
    "            #         t=1\n",
    "            #         pagenum = pagenum + 1\n",
    "            #     else:\n",
    "            #         driver.find_element_by_xpath('//*[@id=\"ACCOM_OVERVIEW\"]/div[39]/div[2]/div/a[2]').click()\n",
    "            #         pagenum = pagenum + 1\n",
    "            #     time.sleep(1)\n",
    "            ## By xpath 2    \n",
    "            #     if(t==0):    \n",
    "            #         driver.find_elements(By.XPATH,'//*[@id=\"ACCOM_OVERVIEW\"]/div[40]/div[2]/div/a').click()\n",
    "            #         t=1\n",
    "            #         pagenum = pagenum + 1\n",
    "            #     else:\n",
    "            #         driver.find_elements(By.XPATH,'//*[@id=\"ACCOM_OVERVIEW\"]/div[39]/div[2]/div/a[2]').click()\n",
    "            #         pagenum = pagenum + 1\n",
    "            #     time.sleep(1)\n",
    "            #============================================================================================\n",
    "            # Explicit Waits:\n",
    "            #     driver_find = WebDriverWait(driver, 100).until(EC.presence_of_element_located((By.ID,\"#ACCOM_OVERVIEW > div.deckTools.easyClear.unified_pagination > div.prw_rup.prw_common_standard_pagination > div > a\")))\n",
    "            #     driver_find.click()\n",
    "            #     pagenum = pagenum + 1    \n",
    "            #============================================================================================\n"
   ]
  },
  {
   "cell_type": "code",
   "execution_count": null,
   "metadata": {
    "collapsed": true
   },
   "outputs": [],
   "source": []
  },
  {
   "cell_type": "code",
   "execution_count": null,
   "metadata": {
    "collapsed": true
   },
   "outputs": [],
   "source": []
  }
 ],
 "metadata": {
  "anaconda-cloud": {},
  "kernelspec": {
   "display_name": "Python [default]",
   "language": "python",
   "name": "python2"
  },
  "language_info": {
   "codemirror_mode": {
    "name": "ipython",
    "version": 2
   },
   "file_extension": ".py",
   "mimetype": "text/x-python",
   "name": "python",
   "nbconvert_exporter": "python",
   "pygments_lexer": "ipython2",
   "version": "2.7.12"
  }
 },
 "nbformat": 4,
 "nbformat_minor": 1
}
