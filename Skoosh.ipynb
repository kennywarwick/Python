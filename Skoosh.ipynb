{
 "cells": [
  {
   "cell_type": "markdown",
   "metadata": {},
   "source": [
    "### 地區域"
   ]
  },
  {
   "cell_type": "code",
   "execution_count": 26,
   "metadata": {
    "collapsed": true
   },
   "outputs": [
    {
     "name": "stderr",
     "output_type": "stream",
     "text": [
      "C:\\Users\\BIG DATA\\Anaconda2\\lib\\site-packages\\requests\\packages\\urllib3\\connectionpool.py:838: InsecureRequestWarning: Unverified HTTPS request is being made. Adding certificate verification is strongly advised. See: https://urllib3.readthedocs.io/en/latest/security.html\n",
      "  InsecureRequestWarning)\n"
     ]
    },
    {
     "name": "stdout",
     "output_type": "stream",
     "text": [
      "{'web': 'http://www.skoosh.com/taroko_hotels.html', 'location': u'Taroko'}\n",
      "{'web': 'http://www.skoosh.com/taipei_hotels.html', 'location': u'Taipei'}\n",
      "{'web': 'http://www.skoosh.com/longtan_hotels.html', 'location': u'Longtan'}\n",
      "{'web': 'http://www.skoosh.com/yilan_hotels.html', 'location': u'Yilan'}\n",
      "{'web': 'http://www.skoosh.com/beitou_hotels.html', 'location': u'Beitou'}\n",
      "{'web': 'http://www.skoosh.com/kaohsiung_hotels.html', 'location': u'Kaohsiung'}\n",
      "{'web': 'http://www.skoosh.com/chang_hua_city_hotels.html', 'location': u'Chang-Hua City'}\n",
      "{'web': 'http://www.skoosh.com/chiayi_hotels.html', 'location': u'Chiayi'}\n",
      "{'web': 'http://www.skoosh.com/chungli_hotels.html', 'location': u'Chungli'}\n",
      "{'web': 'http://www.skoosh.com/dashu_hotels.html', 'location': u'Dashu'}\n",
      "{'web': 'http://www.skoosh.com/hengchun_hotels.html', 'location': u'Hengchun'}\n",
      "{'web': 'http://www.skoosh.com/jinshan_hotels.html', 'location': u'Jinshan'}\n",
      "{'web': 'http://www.skoosh.com/kinmen_hotels.html', 'location': u'Kinmen'}\n",
      "{'web': 'http://www.skoosh.com/lugu_township_hotels.html', 'location': u'Lugu Township'}\n",
      "{'web': 'http://www.skoosh.com/miaoli_county_hotels.html', 'location': u'Miaoli County'}\n",
      "{'web': 'http://www.skoosh.com/panchiao_hotels.html', 'location': u'Panchiao'}\n",
      "{'web': 'http://www.skoosh.com/sanhsia_hotels.html', 'location': u'Sanhsia'}\n",
      "{'web': 'http://www.skoosh.com/shoufeng_hotels.html', 'location': u'Shoufeng'}\n",
      "{'web': 'http://www.skoosh.com/songshan_hotels.html', 'location': u'Songshan'}\n",
      "{'web': 'http://www.skoosh.com/taitung_hotels.html', 'location': u'Taitung'}\n",
      "{'web': 'http://www.skoosh.com/wan_li_hotels.html', 'location': u'Wan Li'}\n",
      "{'web': 'http://www.skoosh.com/zhubei_hotels.html', 'location': u'Zhubei'}\n"
     ]
    }
   ],
   "source": [
    "import requests\n",
    "from bs4 import BeautifulSoup\n",
    "import json\n",
    "url = 'http://www.skoosh.com'\n",
    "res=requests.get(url + '/countries/taiwan.html',verify=False)\n",
    "soup = BeautifulSoup(res.text)\n",
    "res = soup.select('.b1')\n",
    "res2 = soup.select('.b2')\n",
    "# print type(res)\n",
    "# print res.select('tr')\n",
    "location_Info = []\n",
    "\n",
    "for i in res:\n",
    "    try:\n",
    "        location_dict = {}\n",
    "        location_dict['location']  =  i.text.replace('\\n','')\n",
    "        location_dict['web']  = url + i.select_one('a')['href'].strip()  \n",
    "    except Exception as e:\n",
    "        print e        \n",
    "    hotel_Info.append(hotel_dict) \n",
    "for j in res2:\n",
    "    try:\n",
    "        location_dict = {}\n",
    "        location_dict['location']  =  j.text.replace('\\n','')\n",
    "        location_dict['web']  = url + j.select_one('a')['href'].strip()  \n",
    "    except Exception as e:\n",
    "        print e        \n",
    "    location_Info.append(location_dict) \n",
    "\n",
    "for k in location_Info:\n",
    "    print k\n"
   ]
  },
  {
   "cell_type": "markdown",
   "metadata": {
    "collapsed": true
   },
   "source": [
    "### 飯店名稱"
   ]
  },
  {
   "cell_type": "code",
   "execution_count": 22,
   "metadata": {
    "collapsed": true
   },
   "outputs": [
    {
     "name": "stderr",
     "output_type": "stream",
     "text": [
      "C:\\Users\\BIG DATA\\Anaconda2\\lib\\site-packages\\requests\\packages\\urllib3\\connectionpool.py:838: InsecureRequestWarning: Unverified HTTPS request is being made. Adding certificate verification is strongly advised. See: https://urllib3.readthedocs.io/en/latest/security.html\n",
      "  InsecureRequestWarning)\n"
     ]
    },
    {
     "name": "stdout",
     "output_type": "stream",
     "text": [
      "{'rating': '5', 'Name': u'Fullon Hotel Hualien'}\n",
      "{'rating': '3', 'Name': u'Marshal'}\n",
      "{'rating': '3', 'Name': u'Lealea Garden Hotel Hualien'}\n",
      "{'rating': '3', 'Name': u'Lishiuan Hotel'}\n",
      "{'rating': '3', 'Name': u'F Hotel'}\n",
      "{'rating': '3.5', 'Name': u'Cullinan Hotel'}\n",
      "{'rating': '4', 'Name': u'Byeyer Hotel Hualien'}\n",
      "{'rating': '3', 'Name': u'Just Sleep Hualien Zhongzheng'}\n",
      "{'rating': '3.5', 'Name': u'Ocean'}\n",
      "{'rating': '4', 'Name': u'Farglory Hotel Hualien'}\n",
      "{'rating': '5', 'Name': u'Chateau De Chine Hualien'}\n",
      "{'rating': '5', 'Name': u'Lishiuan International Hotel'}\n",
      "{'rating': '3', 'Name': u'Charming City Hualien'}\n",
      "{'rating': '4', 'Name': u'Lige Hotel'}\n",
      "{'rating': '3', 'Name': u'Classic City Resort'}\n",
      "{'rating': '3.5', 'Name': u'Liga Hotel'}\n",
      "{'rating': '3', 'Name': u'Azure'}\n",
      "{'rating': '3', 'Name': u'East Coast Hotel'}\n",
      "{'rating': '5', 'Name': u'Promised Land Resort & Lagoon'}\n"
     ]
    }
   ],
   "source": [
    "import requests\n",
    "from bs4 import BeautifulSoup\n",
    "import json\n",
    "url = 'http://www.skoosh.com'\n",
    "#===============設定地區域=================#\n",
    "page = \"hualien\"\n",
    "\n",
    "#=========================================#\n",
    "res=requests.get(url + '/{}_hotels.html'.format(page),verify=False)\n",
    "soup = BeautifulSoup(res.text)\n",
    "res = soup.select('.citybox')\n",
    "# print type(res)\n",
    "# print res\n",
    "\n",
    "hotelname_Info = []\n",
    "for i in res:\n",
    "    try:\n",
    "        hotelname_dict = {}\n",
    "        hotelname_dict['Name']  =  i.select_one('.citybox_item_block').select_one('a').text.replace('\\n','')\n",
    "        hotelname_dict['rating']  = i.select_one('.citybox_item_block').select_one('img')['alt'].split(' ')[2]  \n",
    "    except Exception as e:\n",
    "        print e        \n",
    "    hotelname_Info.append(hotelname_dict) \n",
    "\n",
    "for k in hotelname_Info:\n",
    "    print k"
   ]
  },
  {
   "cell_type": "markdown",
   "metadata": {},
   "source": [
    "### 飯店資訊"
   ]
  },
  {
   "cell_type": "code",
   "execution_count": 31,
   "metadata": {
    "collapsed": false
   },
   "outputs": [
    {
     "name": "stderr",
     "output_type": "stream",
     "text": [
      "C:\\Users\\BIG DATA\\Anaconda2\\lib\\site-packages\\requests\\packages\\urllib3\\connectionpool.py:838: InsecureRequestWarning: Unverified HTTPS request is being made. Adding certificate verification is strongly advised. See: https://urllib3.readthedocs.io/en/latest/security.html\n",
      "  InsecureRequestWarning)\n"
     ]
    },
    {
     "name": "stdout",
     "output_type": "stream",
     "text": [
      "<type 'list'>\n",
      "[]\n"
     ]
    }
   ],
   "source": [
    "import requests\n",
    "from bs4 import BeautifulSoup\n",
    "import json\n",
    "url = 'http://www.skoosh.com'\n",
    "#===============設定地區域=================#\n",
    "\n",
    "#=========================================#\n",
    "res=requests.get(url + '/hualien_hotels/fullon_hotel_hualien_taiwan.html',verify=False)\n",
    "res = soup.select('.hotel-left-column span_3_of_4')\n",
    "# print type(res)\n",
    "# print res\n",
    "\n",
    "\n",
    "hotelname_Info = []\n",
    "for i in res:\n",
    "    try:\n",
    "        hotelname_dict = {}\n",
    "        hotelname_dict['img']  =  i.select_one('cen-mid').select_one('img')['src']\n",
    "#         hotelname_dict['rating']  = i.select_one('.citybox_item_block').select_one('img')['alt'].split(' ')[2]\n",
    "#         hotelname_dict['Name']  =  i.select_one('.citybox_item_block').select_one('a').text.replace('\\n','')\n",
    "#         hotelname_dict['rating']  = i.select_one('.citybox_item_block').select_one('img')['alt'].split(' ')[2]\n",
    "#         hotelname_dict['Name']  =  i.select_one('.citybox_item_block').select_one('a').text.replace('\\n','')\n",
    "#         hotelname_dict['rating']  = i.select_one('.citybox_item_block').select_one('img')['alt'].split(' ')[2]\n",
    "#         hotelname_dict['Name']  =  i.select_one('.citybox_item_block').select_one('a').text.replace('\\n','')\n",
    "#         hotelname_dict['rating']  = i.select_one('.citybox_item_block').select_one('img')['alt'].split(' ')[2]\n",
    "        \n",
    "    except Exception as e:\n",
    "        print e        \n",
    "    hotelname_Info.append(hotelname_dict) \n",
    "\n",
    "# for k in hotelname_Info:\n",
    "#     print k"
   ]
  },
  {
   "cell_type": "code",
   "execution_count": null,
   "metadata": {
    "collapsed": true
   },
   "outputs": [],
   "source": []
  }
 ],
 "metadata": {
  "anaconda-cloud": {},
  "kernelspec": {
   "display_name": "Python [default]",
   "language": "python",
   "name": "python2"
  },
  "language_info": {
   "codemirror_mode": {
    "name": "ipython",
    "version": 2
   },
   "file_extension": ".py",
   "mimetype": "text/x-python",
   "name": "python",
   "nbconvert_exporter": "python",
   "pygments_lexer": "ipython2",
   "version": "2.7.12"
  }
 },
 "nbformat": 4,
 "nbformat_minor": 1
}
